{
 "cells": [
  {
   "cell_type": "markdown",
   "metadata": {},
   "source": [
    "# Ejemplo de perceptron\n",
    "Sea $ x = ( x_1 , x_2, ... , x_n)$ el vector con las entradas del perceptron y $w = ( w_1, w_2, ... , w_3)$\n",
    "el vector de pesos de cada una de las entradas. Ademas sea $ H: \\mathbb{R} \\to \\mathbb{R}$ la funcion Heavyside\n",
    "de modo que la salida del perceptron dada la entrada $x$ esta dada por $ P(\\hat{x}) =H( \\hat{x} \\cdot \\hat{w}+b) $ "
   ]
  },
  {
   "cell_type": "code",
   "execution_count": 9,
   "metadata": {},
   "outputs": [
    {
     "name": "stdout",
     "output_type": "stream",
     "text": [
      "1"
     ]
    }
   ],
   "source": [
    "#=\n",
    "La siguiente es una implementacion de la funcion de heavyside, dado un\n",
    "escalar v\n",
    "=#\n",
    "function heavyside(v)\n",
    "    if v >= 0\n",
    "        return 1\n",
    "    else\n",
    "        return 0\n",
    "    end\n",
    "end\n",
    "\n",
    "\n",
    "#=\n",
    "La siguiente es una implementacion de un perceptron como una funcion, cuyos parametros \n",
    "son el vector x, el vector w y el sesgo b\n",
    "=#\n",
    "\n",
    "function perceptron(w,b,x)\n",
    "    v = w*x+b\n",
    "    return heavyside(v)\n",
    "end\n"
   ]
  },
  {
   "cell_type": "markdown",
   "metadata": {},
   "source": [
    "## Perceptrones en accion.\n",
    "A continuacion implementamos un perceptron que realice la compuerta logica NOT. Para este caso necesitamos pesos y\n",
    "sesgos $w$,$b$ tales que si $x= 0$ entonces $H(x w + b) = 1$, y a su vez si $x = 1$ entonces $H(xw +b) = 0$.\n",
    "Proponemos los siguientes valores, $w = -1$ y $b = 0.5$. De modo que:"
   ]
  },
  {
   "cell_type": "code",
   "execution_count": 14,
   "metadata": {},
   "outputs": [
    {
     "name": "stdout",
     "output_type": "stream",
     "text": [
      "0\n",
      "1\n"
     ]
    }
   ],
   "source": [
    "\n",
    "function not_perceptron(x)\n",
    "    w = -1\n",
    "    b= 0.5\n",
    "    return perceptron(w,b,x)\n",
    "end\n",
    "\n",
    "#Probamos que funcione correctamente\n",
    "\n",
    "println(not_perceptron(1))\n",
    "println(not_perceptron(0))"
   ]
  },
  {
   "cell_type": "code",
   "execution_count": null,
   "metadata": {},
   "outputs": [],
   "source": [
    "#=\n",
    "TODO: ?\n",
    "*Implementar las demas puertas logicas.\n",
    "*Revisar ortografia y redaccion.\n",
    "*Extender esto mas ?\n",
    "=#"
   ]
  }
 ],
 "metadata": {
  "kernelspec": {
   "display_name": "Julia 1.4.0",
   "language": "julia",
   "name": "julia-1.4"
  },
  "language_info": {
   "file_extension": ".jl",
   "mimetype": "application/julia",
   "name": "julia",
   "version": "1.4.0"
  }
 },
 "nbformat": 4,
 "nbformat_minor": 2
}
