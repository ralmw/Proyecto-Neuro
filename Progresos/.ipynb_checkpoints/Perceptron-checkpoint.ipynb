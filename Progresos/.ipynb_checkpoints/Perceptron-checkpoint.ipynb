{
 "cells": [
  {
   "cell_type": "code",
   "execution_count": 9,
   "metadata": {},
   "outputs": [
    {
     "name": "stdout",
     "output_type": "stream",
     "text": [
      "1"
     ]
    }
   ],
   "source": [
    "#=\n",
    "La siguiente es una implementacion de la funcion de heavyside, dado un\n",
    "escalar v\n",
    "=#\n",
    "function heavyside(v)\n",
    "    if v >= 0\n",
    "        return 1\n",
    "    else\n",
    "        return 0\n",
    "    end\n",
    "end\n",
    "\n",
    "\n",
    "#=\n",
    "La siguiente es una implementacion de un perceptron como una funcion, cuyos parametros \n",
    "son el vector x, el vector w y el sesgo b\n",
    "=#\n",
    "\n",
    "function perceptron(w,b,x)\n",
    "    v = w*x+b\n",
    "    return heavyside(v)\n",
    "end\n",
    "    \n",
    "print(perceptron(-1,0.5,0))"
   ]
  },
  {
   "cell_type": "markdown",
   "metadata": {},
   "source": [
    "# Ejemplo de perceptron\n",
    "Sea $ x = ( x_1 , x_2, ... , x_n)$ el vector con las entradas del perceptron y $w = ( w_1, w_2, ... , w_3)$\n",
    "el vector de pesos de cada una de las entradas. Ademas sea $ H: \\mathbb{R} \\to \\mathbb{R}$ la funcion Heavyside\n",
    "de modo que la salida del perceptron dada la entrada $x$ esta dada por $ P(\\hat{x}) = \\hat{x} \\dot$ "
   ]
  },
  {
   "cell_type": "code",
   "execution_count": null,
   "metadata": {},
   "outputs": [],
   "source": []
  }
 ],
 "metadata": {
  "kernelspec": {
   "display_name": "Julia 1.3.1",
   "language": "julia",
   "name": "julia-1.3"
  },
  "language_info": {
   "file_extension": ".jl",
   "mimetype": "application/julia",
   "name": "julia",
   "version": "1.3.1"
  }
 },
 "nbformat": 4,
 "nbformat_minor": 2
}
