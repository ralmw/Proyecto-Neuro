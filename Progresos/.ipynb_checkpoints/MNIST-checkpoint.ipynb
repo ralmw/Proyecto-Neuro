{
 "cells": [
  {
   "cell_type": "markdown",
   "metadata": {},
   "source": [
    "# Funcion de aceso de datos\n",
    "La siguiente funcion no toma argumentos y regresa una tupla donde la primera entrada es un arreglo de 6000 \n",
    "tuplas $(a,b)$ donde $a \\in \\mathbb{R}^{784}$, el cual contiene los valores en la escala de grises \n",
    "de cada uno de los pixeles de las imagenes de entrenamiento, $b \\in \\mathbb{R}^{10}$ es un vector unitario \n",
    "que contiene un $1$ en la entrada correspondiente al valor esperado, la segunda entrada es un arreglo de 10000\n",
    "tuplas las de forma $(a,s)$, donde $a$ definido de la misma forma que en la tupla anterior y $c \\in \\{0,1,2,3,4,5,6,7,8,9\\} $ es el valor esperado de la imagen como un escalar.\n",
    "\n"
   ]
  },
  {
   "cell_type": "code",
   "execution_count": 1,
   "metadata": {},
   "outputs": [
    {
     "data": {
      "text/plain": [
       "obtener_datos (generic function with 1 method)"
      ]
     },
     "execution_count": 1,
     "metadata": {},
     "output_type": "execute_result"
    }
   ],
   "source": [
    "using CSV\n",
    "using DelimitedFiles\n",
    "\n",
    "function vectorizar(valor)\n",
    "    vector =  zeros(Int64, 10)\n",
    "    vector[valor+1] = 1\n",
    "    return vector \n",
    "end\n",
    "\n",
    "function obtener_datos()\n",
    "    #carga los datos del dataset\n",
    "    datos_entrenamiento = readdlm(\"data/mnist_train.csv\", ',',Int64)\n",
    "    datos_prueba = readdlm(\"data/mnist_test.csv\", ',',Int64)\n",
    "    arreglo_entrenamiento =  Array{Tuple{Array{Int64,1},Array{Int64,1}},1}()\n",
    "    #println(\"llegue\")\n",
    "    arreglo_prueba = Array{Tuple{Array{Int64,1},Int64},1}()\n",
    "    #println(\"llegue2\")\n",
    "    for i in 1:60000\n",
    "        push!(arreglo_entrenamiento, ([datos_entrenamiento[i,n] for n in 2:785], vectorizar(datos_entrenamiento[i,1])))\n",
    "        #Estas lineas son para debuggear\n",
    "        #println(\"-----------------------------------\")\n",
    "        #println(arreglo_entrenamiento)\n",
    "    end\n",
    "    \n",
    "    for j in 1:10000\n",
    "        push!(arreglo_prueba, ([datos_prueba[j,n] for n in 2:785], datos_prueba[j,1]))\n",
    "        #Estas lineas son para debuggear\n",
    "        #println(\"-----------------------------------\")\n",
    "        #println(arreglo_prueba)\n",
    "    end\n",
    "    return (arreglo_entrenamiento, arreglo_prueba)\n",
    "end\n"
   ]
  }
 ],
 "metadata": {
  "kernelspec": {
   "display_name": "Julia 1.4.0",
   "language": "julia",
   "name": "julia-1.4"
  },
  "language_info": {
   "file_extension": ".jl",
   "mimetype": "application/julia",
   "name": "julia",
   "version": "1.4.0"
  }
 },
 "nbformat": 4,
 "nbformat_minor": 4
}
