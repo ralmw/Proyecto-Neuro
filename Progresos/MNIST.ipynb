{
 "cells": [
  {
   "cell_type": "markdown",
   "metadata": {},
   "source": []
  },
  {
   "cell_type": "code",
   "execution_count": 52,
   "metadata": {},
   "outputs": [
    {
     "name": "stdout",
     "output_type": "stream",
     "text": [
      "true"
     ]
    },
    {
     "data": {
      "text/plain": [
       "Tuple{Array{Tuple{Array{Int64,1},Array{Int64,1}},1},Array{Tuple{Array{Int64,1},Int64},1}}"
      ]
     },
     "execution_count": 52,
     "metadata": {},
     "output_type": "execute_result"
    }
   ],
   "source": [
    "using CSV\n",
    "using DelimitedFiles\n",
    "\n",
    "function vectorizar(valor)\n",
    "    vector =  zeros(Int64, 10)\n",
    "    vector[valor+1] = valor\n",
    "    return vector \n",
    "end\n",
    "\n",
    "function obtener_datos()\n",
    "    datos_entrenamiento = readdlm(\"data/mnist_train.csv\", ',',Int64)\n",
    "    datos_prueba = readdlm(\"data/mnist_test.csv\", ',',Int64)\n",
    "    arreglo_entrenamiento =  Array{Tuple{Array{Int64,1},Array{Int64,1}},1}()\n",
    "    #println(\"llegue\")\n",
    "    arreglo_prueba = Array{Tuple{Array{Int64,1},Int64},1}()\n",
    "    #println(\"llegue2\")\n",
    "    for i in 1:60000\n",
    "        push!(arreglo_entrenamiento, ([datos_entrenamiento[i,n] for n in 2:785], vectorizar(datos_entrenamiento[i,1])))\n",
    "        #Estas lineas son para debuggear\n",
    "        #println(\"-----------------------------------\")\n",
    "        #println(arreglo_entrenamiento)\n",
    "    end\n",
    "    \n",
    "    for j in 1:10000\n",
    "        push!(arreglo_prueba, ([datos_prueba[j,n] for n in 2:785], datos_prueba[j,1]))\n",
    "        #Estas lineas son para debuggear\n",
    "        #println(\"-----------------------------------\")\n",
    "        #println(arreglo_prueba)\n",
    "    end\n",
    "    return (arreglo_entrenamiento, arreglo_prueba)\n",
    "end\n",
    "\n",
    "print(typeof(obtener_datos())== Tuple{Array{Tuple{Array{Int64,1},Array{Int64,1}},1},Array{Tuple{Array{Int64,1},Int64},1}})\n",
    "\n",
    "Tuple{Array{Tuple{Array{Int64,1},Array{Int64,1}},1},Array{Tuple{Array{Int64,1},Int64},1}}"
   ]
  },
  {
   "cell_type": "code",
   "execution_count": null,
   "metadata": {},
   "outputs": [],
   "source": []
  },
  {
   "cell_type": "code",
   "execution_count": null,
   "metadata": {},
   "outputs": [],
   "source": []
  },
  {
   "cell_type": "code",
   "execution_count": null,
   "metadata": {},
   "outputs": [],
   "source": []
  },
  {
   "cell_type": "code",
   "execution_count": null,
   "metadata": {},
   "outputs": [],
   "source": []
  }
 ],
 "metadata": {
  "kernelspec": {
   "display_name": "Julia 1.4.0",
   "language": "julia",
   "name": "julia-1.4"
  },
  "language_info": {
   "file_extension": ".jl",
   "mimetype": "application/julia",
   "name": "julia",
   "version": "1.4.0"
  }
 },
 "nbformat": 4,
 "nbformat_minor": 4
}
